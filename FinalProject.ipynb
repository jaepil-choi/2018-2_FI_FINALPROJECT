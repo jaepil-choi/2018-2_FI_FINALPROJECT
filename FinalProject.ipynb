{
 "cells": [
  {
   "cell_type": "code",
   "execution_count": 223,
   "metadata": {},
   "outputs": [],
   "source": [
    "import pandas as pd\n",
    "import numpy as np\n",
    "from bs4 import BeautifulSoup as bs\n",
    "import pickle\n",
    "from IPython.display import Image\n",
    "\n",
    "import requests\n",
    "from lxml import etree as et"
   ]
  },
  {
   "cell_type": "code",
   "execution_count": 357,
   "metadata": {},
   "outputs": [
    {
     "name": "stdout",
     "output_type": "stream",
     "text": [
      "           BC_2YEAR BC_10YEAR BC_30YEAR\n",
      "Date                                   \n",
      "2013-01-02     0.27      1.86      3.04\n",
      "2013-01-03     0.27      1.92      3.12\n",
      "2013-01-04     0.27      1.93       3.1\n",
      "2013-01-07     0.27      1.92       3.1\n",
      "2013-01-08     0.25      1.89      3.06\n",
      "           BC_2YEAR BC_10YEAR BC_30YEAR\n",
      "Date                                   \n",
      "2018-11-27     2.83      3.06      3.32\n",
      "2018-11-28     2.81      3.06      3.34\n",
      "2018-11-29     2.81      3.03      3.33\n",
      "2018-11-30      2.8      3.01       3.3\n",
      "2018-12-03     2.83      2.98      3.27\n"
     ]
    }
   ],
   "source": [
    "## Import 2Y, 10Y, 30Y T-Bill data from treasury.gov (as XML)\n",
    "\n",
    "start_year = 2013\n",
    "end_year = 2018\n",
    "\n",
    "tbill_df = pd.DataFrame()\n",
    "\n",
    "for year in range(start_year, end_year+1):\n",
    "    url = \"https://www.treasury.gov/resource-center/data-chart-center/interest-rates/Pages/TextView.aspx?data=yieldYear&year={0}\".format(year)\n",
    "    xmlurl = \"http://data.treasury.gov/feed.svc/DailyTreasuryYieldCurveRateData?$filter=year(NEW_DATE)%20eq%20{0}\".format(year)\n",
    "\n",
    "    xmlcontent = requests.get(xmlurl).content # type: bytes\n",
    "    xmlcontent = et.fromstring(xmlcontent) # type: lxml.etree_Element\n",
    "\n",
    "#     tree = et.ElementTree(xmlcontent)\n",
    "#     for i in xmlcontent.iter():\n",
    "#         print(tree.getpath(i)) # Tree에서 각 element의 Path를 확인할 수 있다. \n",
    "\n",
    "    namespaces = xmlcontent.nsmap\n",
    "    paths = ['.//d:NEW_DATE', './/d:BC_2YEAR', './/d:BC_10YEAR', './/d:BC_30YEAR']\n",
    "    \n",
    "    temp_df = pd.DataFrame()\n",
    "    for i in paths:\n",
    "        rates = xmlcontent.findall(path=i, namespaces=namespaces)\n",
    "        temp_df[i[5:]] = [x.text for x in rates]\n",
    "        \n",
    "    tbill_df = tbill_df.append(temp_df, ignore_index=True)\n",
    "        \n",
    "tbill_df = tbill_df.rename(columns={'NEW_DATE':\"Date\"})\n",
    "tbill_df.Date = pd.to_datetime(tbill_df.Date)\n",
    "tbill_df = tbill_df.set_index('Date')\n",
    "\n",
    "print(tbill_df.head())\n",
    "print(tbill_df.tail())"
   ]
  },
  {
   "cell_type": "code",
   "execution_count": 358,
   "metadata": {},
   "outputs": [
    {
     "name": "stdout",
     "output_type": "stream",
     "text": [
      "            Mkt-RF   SMB   HML   RMW   CMA   RF\n",
      "Date                                           \n",
      "2013-01-02    2.62  0.12  0.35 -0.62 -0.04  0.0\n",
      "2013-01-03   -0.14  0.14  0.05  0.17  0.22  0.0\n",
      "2013-01-04    0.55  0.19  0.43 -0.38  0.27  0.0\n",
      "2013-01-07   -0.31 -0.08 -0.36 -0.10 -0.12  0.0\n",
      "2013-01-08   -0.27  0.03 -0.06 -0.16  0.09  0.0\n",
      "            Mkt-RF   SMB   HML   RMW   CMA     RF\n",
      "Date                                             \n",
      "2018-10-25    1.93  0.33 -0.72 -0.16 -1.09  0.008\n",
      "2018-10-26   -1.65  0.57  0.37 -0.37  0.52  0.008\n",
      "2018-10-29   -0.76 -0.07  1.63 -0.04  0.99  0.008\n",
      "2018-10-30    1.66  0.43  0.11  0.36  0.38  0.008\n",
      "2018-10-31    1.21 -0.68 -0.69 -0.39 -1.00  0.008\n"
     ]
    }
   ],
   "source": [
    "## Download Fama French 5 Factor data from Kenneth R. French's Data Library\n",
    "## http://mba.tuck.dartmouth.edu/pages/faculty/ken.french/data_library.html\n",
    "\n",
    "ff5_df = pd.read_csv('FF5_daily_20181031.csv', skiprows=3)\n",
    "ff5_df = ff5_df.rename(columns={\"Unnamed: 0\": \"Date\"})\n",
    "ff5_df.Date = pd.to_datetime(ff5_df.Date, format=\"%Y%m%d\")\n",
    "ff5_df = ff5_df.set_index('Date')\n",
    "ff5_df = ff5_df[ff5_df.index.year >= start_year]\n",
    "\n",
    "print(ff5_df.head())\n",
    "print(ff5_df.tail())"
   ]
  },
  {
   "cell_type": "code",
   "execution_count": null,
   "metadata": {},
   "outputs": [],
   "source": []
  }
 ],
 "metadata": {
  "kernelspec": {
   "display_name": "Python 3",
   "language": "python",
   "name": "python3"
  },
  "language_info": {
   "codemirror_mode": {
    "name": "ipython",
    "version": 3
   },
   "file_extension": ".py",
   "mimetype": "text/x-python",
   "name": "python",
   "nbconvert_exporter": "python",
   "pygments_lexer": "ipython3",
   "version": "3.6.5"
  }
 },
 "nbformat": 4,
 "nbformat_minor": 2
}
